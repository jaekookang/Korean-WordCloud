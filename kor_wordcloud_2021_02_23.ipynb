{
 "cells": [
  {
   "cell_type": "markdown",
   "metadata": {
    "id": "g-p4P37rvXI-"
   },
   "source": [
    "# 한국어 워드클라우드 시각화\n",
    "\n",
    "2021-02-23\n",
    "\n",
    "참고\n",
    "- https://liveyourit.tistory.com/58\n",
    "- https://imworld.tistory.com/59"
   ]
  },
  {
   "cell_type": "markdown",
   "metadata": {
    "id": "0jWTVrwSvbDt"
   },
   "source": [
    "## 모듈 설치\n"
   ]
  },
  {
   "cell_type": "code",
   "execution_count": null,
   "metadata": {
    "id": "tbgOAYGYqh4u"
   },
   "outputs": [],
   "source": [
    "%%capture\n",
    "!pip install konlpy\n",
    "!pip install wordcloud"
   ]
  },
  {
   "cell_type": "markdown",
   "metadata": {
    "id": "eCGHoPIDvh8n"
   },
   "source": [
    "## 한국어 폰트 설정"
   ]
  },
  {
   "cell_type": "code",
   "execution_count": null,
   "metadata": {
    "id": "9vyIEc4Wqmi1"
   },
   "outputs": [],
   "source": [
    "%%capture\n",
    "font_address = 'https://github.com/jaekookang/Korean-WordCloud/blob/master/font/SeoulNamsanvert.ttf?raw=true'\n",
    "!wget {font_address}\n",
    "!mv SeoulNamsanvert.ttf?raw=true SeoulNamsanvert.ttf"
   ]
  },
  {
   "cell_type": "markdown",
   "metadata": {
    "id": "O4UXo0iZv3ul"
   },
   "source": [
    "## 텍스트 파일 업로드"
   ]
  },
  {
   "cell_type": "code",
   "execution_count": null,
   "metadata": {
    "id": "hZIVy1kbvoBK"
   },
   "outputs": [],
   "source": [
    "import chardet\n",
    "from tqdm.auto import tqdm\n",
    "from google.colab import files\n",
    "uploaded = files.upload()\n",
    "\n",
    "def detect_encoding(txt_file, convert_utf8=True):\n",
    "    with open(txt_file, 'rb') as f:\n",
    "        result = chardet.detect(f.read())\n",
    "    encoding = result['encoding']\n",
    "    if encoding != 'utf-8':\n",
    "        new_txt_file = f'_{txt_file}'\n",
    "        !iconv -f cp949 -t UTF-8 {txt_file} > {new_txt_file}\n",
    "        !mv {new_txt_file} {txt_file}\n",
    "        print(f'  {txt_file} utf8 converted')\n",
    "\n",
    "if len(uploaded.keys()) > 1:\n",
    "    # 두 개 이상의 파일을 업로드한 경우\n",
    "    txt_file = '_combined_.txt'\n",
    "    txt_files = list(uploaded.keys())\n",
    "    with open(txt_file, 'w') as target_f:\n",
    "        for file_name in tqdm(txt_files, total=len(txt_files), desc='텍스트병합'):\n",
    "            detect_encoding(file_name)\n",
    "            with open(file_name, 'r') as source_f:\n",
    "                for line in source_f.readlines():\n",
    "                    target_f.write(line)\n",
    "else:\n",
    "    # 한 개의 파일을 업로드한 경우\n",
    "    txt_file = list(uploaded.keys())[0]\n",
    "    detect_encoding(txt_file)"
   ]
  },
  {
   "cell_type": "markdown",
   "metadata": {
    "id": "p-SHlkl8wO6p"
   },
   "source": [
    "## 워드클라우드 생성"
   ]
  },
  {
   "cell_type": "code",
   "execution_count": null,
   "metadata": {
    "id": "Z-xtn6QTtOwV"
   },
   "outputs": [],
   "source": [
    "%matplotlib inline\n",
    "import matplotlib.pyplot as plt\n",
    "import matplotlib.image as mpimg\n",
    "\n",
    "from wordcloud import WordCloud\n",
    "from konlpy.tag import Okt\n",
    "from collections import Counter\n",
    "\n",
    "def extract_nouns(txt, n_most_common=100):\n",
    "    okt = Okt()\n",
    "    nouns = okt.nouns(txt)\n",
    "    for i, noun in enumerate(nouns):\n",
    "        if len(noun) < 2:\n",
    "            nouns.pop(i)\n",
    "    count = Counter(nouns)\n",
    "    freq_nouns = count.most_common(n_most_common)\n",
    "    return freq_nouns\n",
    "\n",
    "def make_wordcloud(nouns, \n",
    "                   max_words=100,\n",
    "                   width=1000,\n",
    "                   height=1000,\n",
    "                   max_font_size=300,\n",
    "                   background_color='white',\n",
    "                   save_file='wordcloud.png', \n",
    "                   font_path='SeoulNamsanvert.ttf',\n",
    "                   show_plot=True):\n",
    "    \n",
    "    wc = WordCloud(font_path=font_path,\n",
    "                   background_color=background_color,\n",
    "                   width=width,\n",
    "                   height=height,\n",
    "                   max_words=max_words,\n",
    "                   max_font_size=max_font_size)\n",
    "    \n",
    "    wc.generate_from_frequencies(dict(nouns))\n",
    "    wc.to_file(save_file)\n",
    "\n",
    "    if show_plot:\n",
    "        img = mpimg.imread(save_file)\n",
    "        fig, ax = plt.subplots(1, facecolor='white', figsize=(10,10))\n",
    "        ax.imshow(img)\n",
    "        ax.set_xticks([])\n",
    "        ax.set_yticks([])\n",
    "    else:\n",
    "        print('Saved')\n",
    "\n",
    "# 파일 읽기\n",
    "with open(txt_file, 'rt', encoding='utf-8') as f:\n",
    "    txt_bytes = f.read()\n",
    "    noun_list = extract_nouns(txt_bytes, n_most_common=100)\n",
    "\n",
    "# 워드클라우드 만들기\n",
    "make_wordcloud(noun_list, show_plot=True)"
   ]
  }
 ],
 "metadata": {
  "colab": {
   "collapsed_sections": [],
   "name": "kor_wordcloud_2021-02-23.ipynb",
   "private_outputs": true,
   "provenance": []
  },
  "kernelspec": {
   "display_name": "Python 3",
   "language": "python",
   "name": "python3"
  },
  "language_info": {
   "codemirror_mode": {
    "name": "ipython",
    "version": 3
   },
   "file_extension": ".py",
   "mimetype": "text/x-python",
   "name": "python",
   "nbconvert_exporter": "python",
   "pygments_lexer": "ipython3",
   "version": "3.7.4"
  }
 },
 "nbformat": 4,
 "nbformat_minor": 4
}
